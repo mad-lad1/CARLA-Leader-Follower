{
 "cells": [
  {
   "cell_type": "code",
   "execution_count": 1,
   "metadata": {},
   "outputs": [],
   "source": [
    "import carla\n",
    "from time import sleep\n",
    "from agents.navigation.local_planner import LocalPlanner\n",
    "from agents.navigation.global_route_planner import GlobalRoutePlanner\n",
    "from agents.navigation.global_route_planner_dao import GlobalRoutePlannerDAO"
   ]
  },
  {
   "cell_type": "code",
   "execution_count": 7,
   "metadata": {},
   "outputs": [
    {
     "data": {
      "text/plain": [
       "[0, 1, 2, 3, 4, 5, 6, 7, 8, 9]"
      ]
     },
     "execution_count": 7,
     "metadata": {},
     "output_type": "execute_result"
    }
   ],
   "source": [
    "import numpy as np\n",
    "joker = list(range(10))\n",
    "joker"
   ]
  },
  {
   "cell_type": "code",
   "execution_count": 6,
   "metadata": {},
   "outputs": [
    {
     "data": {
      "text/plain": [
       "[0, 1, 2, 3, 4, 5, 6, 7, 8, 9]"
      ]
     },
     "execution_count": 6,
     "metadata": {},
     "output_type": "execute_result"
    }
   ],
   "source": []
  },
  {
   "cell_type": "code",
   "execution_count": 2,
   "metadata": {},
   "outputs": [],
   "source": [
    "client = carla.Client('localhost', 2000)\n",
    "client.set_timeout(20.0)"
   ]
  },
  {
   "cell_type": "code",
   "execution_count": 3,
   "metadata": {},
   "outputs": [],
   "source": [
    "world = client.get_world()"
   ]
  },
  {
   "cell_type": "code",
   "execution_count": 4,
   "metadata": {},
   "outputs": [],
   "source": [
    "waypoints = world.get_map().generate_waypoints(distance=1.0)\n",
    "filtered_waypoints = []\n",
    "spawn_points = []\n",
    "for waypoint in waypoints:\n",
    "  if(waypoint.road_id == 2):\n",
    "    filtered_waypoints.append(waypoint)\n",
    "    \n",
    "    \n",
    "vehicle_blueprint = world.get_blueprint_library().filter('model3')[0]\n",
    "spawn_point1 = filtered_waypoints[100].transform\n",
    "spawn_point1.rotation.yaw = 0\n",
    "spawn_point1.location.z += 1\n",
    "spawn_point1.location.x += 0.2\n"
   ]
  },
  {
   "cell_type": "code",
   "execution_count": 6,
   "metadata": {},
   "outputs": [],
   "source": [
    "#code to draw waypoints on a road\n",
    "client = carla.Client('localhost', 2000)\n",
    "client.set_timeout(20.0)\n",
    "world = client.get_world()\n",
    "map = world.get_map()\n",
    "sampling_resolution = 0.1\n",
    "\n",
    "\n",
    "\n",
    "dao = GlobalRoutePlannerDAO(map, sampling_resolution)\n",
    "grp = GlobalRoutePlanner(dao)\n",
    "grp.setup()\n",
    "\n",
    "\n",
    "                                   \n",
    "waypoints = world.get_map().generate_waypoints(distance=1.0)\n",
    "\n",
    "vehicle_blueprint = world.get_blueprint_library().filter('model3')[0]\n",
    "\n",
    "filtered_waypoints = []\n",
    "spawn_points = []\n",
    "for waypoint in waypoints:\n",
    "  if(waypoint.road_id == 2):\n",
    "    filtered_waypoints.append(waypoint)\n",
    "\n",
    "\n",
    "spawn_point1 = filtered_waypoints[10].transform\n",
    "spawn_point1.rotation.yaw = 0\n",
    "spawn_point1.location.z += 1\n",
    "spawn_point1.location.x += 0.2\n",
    "\n",
    "spawn_point2 = filtered_waypoints[50].transform\n",
    "spawn_point2.rotation.yaw = 0\n",
    "spawn_point2.location.z += 1\n",
    "spawn_point2.location.x -= 1\n",
    "\n",
    "\n",
    "vehicle1 = world.spawn_actor(vehicle_blueprint, spawn_point1)\n",
    "vehicle2 = world.spawn_actor(vehicle_blueprint, spawn_point2)\n",
    "\n",
    "#vehicle1.set_autopilot(True)\n",
    "\n",
    "#custom_controller = VehiclePIDController(vehicle2, args_lateral={'K_P': a0, 'K_D': 0.0, 'K_I': 0}, args_longitudinal = {'K_P': 1, 'K_D': 0.0, 'K_I': 0.0})\n",
    "custom_controller = LocalPlanner(vehicle1)\n",
    "\n",
    "#compute path between vehicle and leader\n",
    "\n",
    "goal = vehicle1.get_location()\n",
    "start = vehicle2.get_location()\n",
    "\n",
    "\n",
    "#vehicle1.set_autopilot(True)\n",
    "i =  0 \n",
    "# while True:\n",
    "#   path = grp.trace_route(start, goal)\n",
    "#   for w in path:\n",
    "#       world.debug.draw_string(w[0].transform.location, 'O', draw_shadow=False,\n",
    "#       color=carla.Color(r=255, g=0, b=0), life_time=0.5,\n",
    "#       persistent_lines=True)\n"
   ]
  },
  {
   "cell_type": "code",
   "execution_count": 7,
   "metadata": {},
   "outputs": [],
   "source": [
    "world.debug.draw_string(start, 'O', draw_shadow=False,\n",
    "    color=carla.Color(r=255, g=0, b=0), life_time=10.0,\n",
    "    persistent_lines=True)\n",
    "\n",
    "world.debug.draw_string(goal, 'O', draw_shadow=False,\n",
    "    color=carla.Color(r=255, g=0, b=0), life_time=10.0,\n",
    "    persistent_lines=True)"
   ]
  },
  {
   "cell_type": "code",
   "execution_count": 8,
   "metadata": {},
   "outputs": [
    {
     "ename": "KeyboardInterrupt",
     "evalue": "",
     "output_type": "error",
     "traceback": [
      "\u001b[1;31m---------------------------------------------------------------------------\u001b[0m",
      "\u001b[1;31mKeyboardInterrupt\u001b[0m                         Traceback (most recent call last)",
      "\u001b[1;32m~\\AppData\\Local\\Temp/ipykernel_23436/958540939.py\u001b[0m in \u001b[0;36m<module>\u001b[1;34m\u001b[0m\n\u001b[0;32m      6\u001b[0m     \u001b[0mpath\u001b[0m \u001b[1;33m=\u001b[0m \u001b[0mgrp\u001b[0m\u001b[1;33m.\u001b[0m\u001b[0mtrace_route\u001b[0m\u001b[1;33m(\u001b[0m\u001b[0mstart\u001b[0m\u001b[1;33m,\u001b[0m \u001b[0mgoal\u001b[0m\u001b[1;33m)\u001b[0m\u001b[1;33m\u001b[0m\u001b[1;33m\u001b[0m\u001b[0m\n\u001b[0;32m      7\u001b[0m     \u001b[1;32mfor\u001b[0m \u001b[0mw\u001b[0m \u001b[1;32min\u001b[0m \u001b[0mpath\u001b[0m\u001b[1;33m:\u001b[0m\u001b[1;33m\u001b[0m\u001b[1;33m\u001b[0m\u001b[0m\n\u001b[1;32m----> 8\u001b[1;33m         world.debug.draw_string(w[0].transform.location, 'O', draw_shadow=False,\n\u001b[0m\u001b[0;32m      9\u001b[0m         \u001b[0mcolor\u001b[0m\u001b[1;33m=\u001b[0m\u001b[0mcarla\u001b[0m\u001b[1;33m.\u001b[0m\u001b[0mColor\u001b[0m\u001b[1;33m(\u001b[0m\u001b[0mr\u001b[0m\u001b[1;33m=\u001b[0m\u001b[1;36m255\u001b[0m\u001b[1;33m,\u001b[0m \u001b[0mg\u001b[0m\u001b[1;33m=\u001b[0m\u001b[1;36m0\u001b[0m\u001b[1;33m,\u001b[0m \u001b[0mb\u001b[0m\u001b[1;33m=\u001b[0m\u001b[1;36m0\u001b[0m\u001b[1;33m)\u001b[0m\u001b[1;33m,\u001b[0m \u001b[0mlife_time\u001b[0m\u001b[1;33m=\u001b[0m\u001b[1;36m0.5\u001b[0m\u001b[1;33m,\u001b[0m\u001b[1;33m\u001b[0m\u001b[1;33m\u001b[0m\u001b[0m\n\u001b[0;32m     10\u001b[0m         persistent_lines=True)\n",
      "\u001b[1;31mKeyboardInterrupt\u001b[0m: "
     ]
    }
   ],
   "source": [
    "vehicle1.set_autopilot(True)\n",
    "i = 0\n",
    "while i < 10000:\n",
    "    goal = vehicle1.get_location()\n",
    "    start = vehicle2.get_location()\n",
    "    path = grp.trace_route(start, goal)\n",
    "    for w in path:\n",
    "        world.debug.draw_string(w[0].transform.location, 'O', draw_shadow=False,\n",
    "        color=carla.Color(r=255, g=0, b=0), life_time=0.5,\n",
    "        persistent_lines=True)\n",
    "    i = i + 1"
   ]
  },
  {
   "cell_type": "code",
   "execution_count": 48,
   "metadata": {},
   "outputs": [],
   "source": [
    "world = client.get_world()\n",
    "actors = world.get_actors().filter('vehicle.*')\n",
    "for actor in actors:\n",
    "    actor.destroy()\n",
    "    "
   ]
  },
  {
   "cell_type": "code",
   "execution_count": null,
   "metadata": {},
   "outputs": [],
   "source": [
    "world = client.get_world()\n",
    "actors = world.get_actors().filter('traffic.traffic_light')\n",
    "for actor in actors:\n",
    "    actor.destroy()"
   ]
  },
  {
   "cell_type": "code",
   "execution_count": 50,
   "metadata": {},
   "outputs": [
    {
     "name": "stdout",
     "output_type": "stream",
     "text": [
      "[Actor(id=366, type=traffic.stop), Actor(id=422, type=traffic.traffic_light), Actor(id=358, type=spectator), Actor(id=359, type=traffic.stop), Actor(id=360, type=traffic.stop), Actor(id=361, type=traffic.stop), Actor(id=362, type=traffic.stop), Actor(id=363, type=traffic.stop), Actor(id=364, type=traffic.stop), Actor(id=365, type=traffic.stop), Actor(id=367, type=traffic.stop), Actor(id=368, type=traffic.stop), Actor(id=369, type=traffic.stop), Actor(id=370, type=traffic.stop), Actor(id=371, type=traffic.stop), Actor(id=372, type=traffic.stop), Actor(id=373, type=traffic.stop), Actor(id=374, type=traffic.stop), Actor(id=375, type=traffic.stop), Actor(id=376, type=traffic.stop), Actor(id=377, type=traffic.unknown), Actor(id=378, type=traffic.unknown), Actor(id=379, type=traffic.unknown), Actor(id=380, type=traffic.unknown), Actor(id=381, type=traffic.unknown), Actor(id=382, type=traffic.unknown), Actor(id=383, type=traffic.unknown), Actor(id=384, type=traffic.unknown), Actor(id=385, type=traffic.unknown), Actor(id=386, type=traffic.unknown), Actor(id=387, type=traffic.unknown), Actor(id=388, type=traffic.unknown), Actor(id=389, type=traffic.stop), Actor(id=390, type=traffic.stop), Actor(id=391, type=traffic.unknown), Actor(id=392, type=traffic.unknown), Actor(id=393, type=traffic.speed_limit.60), Actor(id=394, type=traffic.speed_limit.60), Actor(id=395, type=traffic.speed_limit.30), Actor(id=396, type=traffic.speed_limit.30), Actor(id=397, type=traffic.speed_limit.90), Actor(id=398, type=traffic.speed_limit.90), Actor(id=399, type=traffic.traffic_light), Actor(id=400, type=traffic.traffic_light), Actor(id=401, type=traffic.traffic_light), Actor(id=402, type=traffic.traffic_light), Actor(id=403, type=traffic.traffic_light), Actor(id=404, type=traffic.traffic_light), Actor(id=405, type=traffic.traffic_light), Actor(id=406, type=traffic.traffic_light), Actor(id=407, type=traffic.traffic_light), Actor(id=408, type=traffic.traffic_light), Actor(id=409, type=traffic.traffic_light), Actor(id=410, type=traffic.traffic_light), Actor(id=411, type=traffic.traffic_light), Actor(id=412, type=traffic.traffic_light), Actor(id=413, type=traffic.traffic_light), Actor(id=414, type=traffic.traffic_light), Actor(id=415, type=traffic.traffic_light), Actor(id=416, type=traffic.traffic_light), Actor(id=417, type=traffic.traffic_light), Actor(id=418, type=traffic.traffic_light), Actor(id=419, type=traffic.traffic_light), Actor(id=420, type=traffic.traffic_light), Actor(id=421, type=traffic.traffic_light), Actor(id=423, type=traffic.traffic_light), Actor(id=424, type=traffic.traffic_light), Actor(id=425, type=traffic.traffic_light), Actor(id=426, type=traffic.traffic_light), Actor(id=427, type=traffic.traffic_light), Actor(id=428, type=traffic.traffic_light), Actor(id=429, type=traffic.traffic_light), Actor(id=430, type=traffic.traffic_light), Actor(id=431, type=traffic.traffic_light), Actor(id=432, type=traffic.traffic_light), Actor(id=433, type=traffic.traffic_light), Actor(id=434, type=traffic.traffic_light), Actor(id=435, type=traffic.speed_limit.30), Actor(id=436, type=traffic.speed_limit.30), Actor(id=437, type=traffic.speed_limit.30), Actor(id=438, type=traffic.speed_limit.30), Actor(id=439, type=traffic.speed_limit.30), Actor(id=440, type=traffic.traffic_light), Actor(id=441, type=traffic.traffic_light), Actor(id=470, type=vehicle.tesla.model3), Actor(id=472, type=vehicle.tesla.model3), Actor(id=473, type=vehicle.tesla.model3)]\n"
     ]
    }
   ],
   "source": [
    "print(world.get_actors())"
   ]
  },
  {
   "cell_type": "code",
   "execution_count": 18,
   "metadata": {},
   "outputs": [
    {
     "ename": "RuntimeError",
     "evalue": "time-out of 20000ms while waiting for the simulator, make sure the simulator is ready and connected to localhost:2000",
     "output_type": "error",
     "traceback": [
      "\u001b[1;31m---------------------------------------------------------------------------\u001b[0m",
      "\u001b[1;31mRuntimeError\u001b[0m                              Traceback (most recent call last)",
      "\u001b[1;32m~\\AppData\\Local\\Temp/ipykernel_1708/3267524244.py\u001b[0m in \u001b[0;36m<module>\u001b[1;34m\u001b[0m\n\u001b[1;32m----> 1\u001b[1;33m \u001b[0mwaypoints\u001b[0m \u001b[1;33m=\u001b[0m \u001b[0mworld\u001b[0m\u001b[1;33m.\u001b[0m\u001b[0mget_map\u001b[0m\u001b[1;33m(\u001b[0m\u001b[1;33m)\u001b[0m\u001b[1;33m.\u001b[0m\u001b[0mgenerate_waypoints\u001b[0m\u001b[1;33m(\u001b[0m\u001b[0mdistance\u001b[0m\u001b[1;33m=\u001b[0m\u001b[1;36m1.0\u001b[0m\u001b[1;33m)\u001b[0m\u001b[1;33m\u001b[0m\u001b[1;33m\u001b[0m\u001b[0m\n\u001b[0m",
      "\u001b[1;31mRuntimeError\u001b[0m: time-out of 20000ms while waiting for the simulator, make sure the simulator is ready and connected to localhost:2000"
     ]
    }
   ],
   "source": [
    "waypoints = world.get_map().generate_waypoints(distance=1.0)\n"
   ]
  },
  {
   "cell_type": "code",
   "execution_count": 34,
   "metadata": {},
   "outputs": [],
   "source": [
    "waypoint = waypoints[0]"
   ]
  },
  {
   "cell_type": "code",
   "execution_count": 51,
   "metadata": {},
   "outputs": [
    {
     "name": "stdout",
     "output_type": "stream",
     "text": [
      "Vector3D(x=-0.999888, y=-0.014936, z=0.000000)\n"
     ]
    }
   ],
   "source": [
    "print(waypoint.transform.get_forward_vector())"
   ]
  },
  {
   "cell_type": "code",
   "execution_count": 37,
   "metadata": {},
   "outputs": [],
   "source": [
    "location = tesla.get_location()"
   ]
  },
  {
   "cell_type": "code",
   "execution_count": 38,
   "metadata": {},
   "outputs": [],
   "source": [
    "waypoint.transform.location = location"
   ]
  },
  {
   "cell_type": "code",
   "execution_count": 66,
   "metadata": {},
   "outputs": [],
   "source": []
  },
  {
   "cell_type": "code",
   "execution_count": null,
   "metadata": {},
   "outputs": [],
   "source": [
    "stop_signal = carla.VehicleControl()\n",
    "stop_signal.throttle = 0\n",
    "stop_signal.brake = 0.5"
   ]
  }
 ],
 "metadata": {
  "interpreter": {
   "hash": "9fa5df806d8a28a3242f746d4b7e21d2c03d17390143ee234607976f73084ab5"
  },
  "kernelspec": {
   "display_name": "Python 3.8.5 64-bit",
   "language": "python",
   "name": "python3"
  },
  "language_info": {
   "codemirror_mode": {
    "name": "ipython",
    "version": 3
   },
   "file_extension": ".py",
   "mimetype": "text/x-python",
   "name": "python",
   "nbconvert_exporter": "python",
   "pygments_lexer": "ipython3",
   "version": "3.8.5"
  },
  "orig_nbformat": 4
 },
 "nbformat": 4,
 "nbformat_minor": 2
}
